{
 "cells": [
  {
   "cell_type": "code",
   "execution_count": 59,
   "metadata": {},
   "outputs": [],
   "source": [
    "# -*- coding: utf-8 -*-\n",
    "\n",
    "import csv\n",
    "import pandas as pd\n",
    "import numpy as np\n",
    "\n",
    "from sklearn.feature_extraction.text import CountVectorizer\n",
    "\n",
    "from sklearn.linear_model import LogisticRegression\n",
    "\n",
    "from sklearn.metrics import accuracy_score\n",
    "from sklearn.metrics import precision_score\n",
    "from sklearn.metrics import recall_score\n",
    "from sklearn.metrics import f1_score\n",
    "\n",
    "import matplotlib.pyplot as plt"
   ]
  },
  {
   "cell_type": "code",
   "execution_count": 2,
   "metadata": {},
   "outputs": [],
   "source": [
    "\n",
    "path1 = './input/train.txt'\n",
    "path2 = './input/valid.txt'\n",
    "path3 = './input/test.txt'\n",
    "\n",
    "col_name = ['CATEGORY','TITLE']\n",
    "\n",
    "train_df = pd.read_csv( path1, sep='\\t', header=None, names=col_name)\n",
    "valid_df = pd.read_csv( path2, sep='\\t', header=None, names=col_name)\n",
    "test_df = pd.read_csv( path3, sep='\\t', header=None, names=col_name)\n"
   ]
  },
  {
   "cell_type": "code",
   "execution_count": 68,
   "metadata": {},
   "outputs": [],
   "source": [
    "def Vect(vectorizer=None):\n",
    "    X_train = vectorizer.fit_transform(train_df['TITLE'])\n",
    "    X_valid = vectorizer.transform(valid_df['TITLE'])\n",
    "    X_test = vectorizer.transform(test_df['TITLE'])\n",
    "    return X_train,X_test,X_valid,vectorizer"
   ]
  },
  {
   "cell_type": "code",
   "execution_count": 47,
   "metadata": {},
   "outputs": [],
   "source": [
    "def Learn(f=LogisticRegression()):\n",
    "    clf = f\n",
    "    clf.fit(X_train, train_df['CATEGORY'])\n",
    "    return clf"
   ]
  },
  {
   "cell_type": "code",
   "execution_count": 18,
   "metadata": {},
   "outputs": [],
   "source": [
    "#予測\n",
    "dic = {'b':'business', 't':'science and technology', 'e' : 'entertainment', 'm' : 'health'}\n",
    "def predict(text,clf,vectorizer):\n",
    "    text = [text]\n",
    "    X = vectorizer.transform(text)\n",
    "    ls_proba = clf.predict_proba(X)\n",
    "    for proba in ls_proba:\n",
    "        for c, p in zip(clf.classes_, proba):\n",
    "            print (dic[c]+':',p)\n"
   ]
  },
  {
   "cell_type": "code",
   "execution_count": 53,
   "metadata": {},
   "outputs": [],
   "source": [
    "def Print(data_df,data,clf):\n",
    "    y_pred = clf.predict(data)\n",
    "    y = data_df['CATEGORY']\n",
    "    acc = accuracy_score(y, y_pred)\n",
    "    print('accuracy',acc)\n",
    "    print('precision',precision_score(y, y_pred,average='macro'))\n",
    "    print('recall',recall_score(y, y_pred,average='macro'))\n",
    "    print('F1',f1_score(y, y_pred, average='macro'))\n",
    "    return acc\n"
   ]
  },
  {
   "cell_type": "code",
   "execution_count": 44,
   "metadata": {},
   "outputs": [
    {
     "name": "stderr",
     "output_type": "stream",
     "text": [
      "C:\\Users\\n_hay\\Anaconda3\\lib\\site-packages\\sklearn\\linear_model\\_logistic.py:764: ConvergenceWarning: lbfgs failed to converge (status=1):\n",
      "STOP: TOTAL NO. of ITERATIONS REACHED LIMIT.\n",
      "\n",
      "Increase the number of iterations (max_iter) or scale the data as shown in:\n",
      "    https://scikit-learn.org/stable/modules/preprocessing.html\n",
      "Please also refer to the documentation for alternative solver options:\n",
      "    https://scikit-learn.org/stable/modules/linear_model.html#logistic-regression\n",
      "  extra_warning_msg=_LOGISTIC_SOLVER_CONVERGENCE_MSG)\n"
     ]
    },
    {
     "name": "stdout",
     "output_type": "stream",
     "text": [
      "accuracy 0.9964392803598201\n",
      "precision 0.9966486276811982\n",
      "recall 0.9939338435748402\n",
      "F1 0.9952842071266861\n",
      "accuracy 0.9047976011994003\n",
      "precision 0.8784970246400311\n",
      "recall 0.8192379918245828\n",
      "F1 0.8445876738502733\n"
     ]
    },
    {
     "data": {
      "text/plain": [
       "12936"
      ]
     },
     "execution_count": 44,
     "metadata": {},
     "output_type": "execute_result"
    }
   ],
   "source": [
    "vectorizer = CountVectorizer()#単語からベクトル変換\n",
    "X_train,X_test,X_test,vectorizer = Vect(vectorizer)\n",
    "clf = Learn()\n",
    "Print(train_df,X_train,clf)\n",
    "Print(test_df,X_test,clf)\n",
    "len(vectorizer.get_feature_names())"
   ]
  },
  {
   "cell_type": "code",
   "execution_count": 45,
   "metadata": {},
   "outputs": [
    {
     "name": "stdout",
     "output_type": "stream",
     "text": [
      "accuracy 0.9990629685157422\n",
      "precision 0.9989835936339623\n",
      "recall 0.998705537753568\n",
      "F1 0.9988444482686808\n",
      "accuracy 0.9032983508245878\n",
      "precision 0.898386591945726\n",
      "recall 0.789244303312275\n",
      "F1 0.830216466831279\n"
     ]
    },
    {
     "data": {
      "text/plain": [
       "76180"
      ]
     },
     "execution_count": 45,
     "metadata": {},
     "output_type": "execute_result"
    }
   ],
   "source": [
    "vectorizer = CountVectorizer(ngram_range = (1,2))#単語からベクトル変換\n",
    "X_train,X_test,X_test,vectorizer = Vect(vectorizer)\n",
    "clf = Learn()\n",
    "Print(train_df,X_train,clf)\n",
    "Print(test_df,X_test,clf)\n",
    "len(vectorizer.get_feature_names())"
   ]
  },
  {
   "cell_type": "code",
   "execution_count": 46,
   "metadata": {},
   "outputs": [
    {
     "name": "stdout",
     "output_type": "stream",
     "text": [
      "accuracy 0.9991566716641679\n",
      "precision 0.9990395811496395\n",
      "recall 0.9989109609253017\n",
      "F1 0.998975108454335\n",
      "accuracy 0.8950524737631185\n",
      "precision 0.8942050965693455\n",
      "recall 0.7670994631658041\n",
      "F1 0.8117015121231124\n"
     ]
    },
    {
     "data": {
      "text/plain": [
       "152047"
      ]
     },
     "execution_count": 46,
     "metadata": {},
     "output_type": "execute_result"
    }
   ],
   "source": [
    "vectorizer = CountVectorizer(ngram_range = (1,3))#単語からベクトル変換\n",
    "X_train,X_test,X_test,vectorizer = Vect(vectorizer)\n",
    "clf = Learn()\n",
    "Print(train_df,X_train,clf)\n",
    "Print(test_df,X_test,clf)\n",
    "len(vectorizer.get_feature_names())"
   ]
  },
  {
   "cell_type": "code",
   "execution_count": 69,
   "metadata": {
    "collapsed": true,
    "jupyter": {
     "outputs_hidden": true
    }
   },
   "outputs": [
    {
     "name": "stdout",
     "output_type": "stream",
     "text": [
      "1\n"
     ]
    },
    {
     "name": "stderr",
     "output_type": "stream",
     "text": [
      "C:\\Users\\n_hay\\Anaconda3\\lib\\site-packages\\sklearn\\linear_model\\_logistic.py:764: ConvergenceWarning: lbfgs failed to converge (status=1):\n",
      "STOP: TOTAL NO. of ITERATIONS REACHED LIMIT.\n",
      "\n",
      "Increase the number of iterations (max_iter) or scale the data as shown in:\n",
      "    https://scikit-learn.org/stable/modules/preprocessing.html\n",
      "Please also refer to the documentation for alternative solver options:\n",
      "    https://scikit-learn.org/stable/modules/linear_model.html#logistic-regression\n",
      "  extra_warning_msg=_LOGISTIC_SOLVER_CONVERGENCE_MSG)\n"
     ]
    },
    {
     "name": "stdout",
     "output_type": "stream",
     "text": [
      "accuracy 0.9964392803598201\n",
      "precision 0.9966486276811982\n",
      "recall 0.9939338435748402\n",
      "F1 0.9952842071266861\n",
      "accuracy 0.9047976011994003\n",
      "precision 0.8784970246400311\n",
      "recall 0.8192379918245828\n",
      "F1 0.8445876738502733\n",
      "accuracy 0.9227886056971514\n",
      "precision 0.9090244552118678\n",
      "recall 0.8489121062374096\n",
      "F1 0.8742706946450769\n",
      "1001\n"
     ]
    },
    {
     "name": "stderr",
     "output_type": "stream",
     "text": [
      "C:\\Users\\n_hay\\Anaconda3\\lib\\site-packages\\sklearn\\linear_model\\_logistic.py:764: ConvergenceWarning: lbfgs failed to converge (status=1):\n",
      "STOP: TOTAL NO. of ITERATIONS REACHED LIMIT.\n",
      "\n",
      "Increase the number of iterations (max_iter) or scale the data as shown in:\n",
      "    https://scikit-learn.org/stable/modules/preprocessing.html\n",
      "Please also refer to the documentation for alternative solver options:\n",
      "    https://scikit-learn.org/stable/modules/linear_model.html#logistic-regression\n",
      "  extra_warning_msg=_LOGISTIC_SOLVER_CONVERGENCE_MSG)\n"
     ]
    },
    {
     "name": "stdout",
     "output_type": "stream",
     "text": [
      "accuracy 0.9991566716641679\n",
      "precision 0.9984696377618255\n",
      "recall 0.9994849339997773\n",
      "F1 0.9989760643248979\n",
      "accuracy 0.9032983508245878\n",
      "precision 0.8605259745583347\n",
      "recall 0.8329629058520026\n",
      "F1 0.845738557326242\n",
      "accuracy 0.9190404797601199\n",
      "precision 0.8900201056941894\n",
      "recall 0.8568411557434502\n",
      "F1 0.8718691844915579\n",
      "2001\n"
     ]
    },
    {
     "name": "stderr",
     "output_type": "stream",
     "text": [
      "C:\\Users\\n_hay\\Anaconda3\\lib\\site-packages\\sklearn\\linear_model\\_logistic.py:764: ConvergenceWarning: lbfgs failed to converge (status=1):\n",
      "STOP: TOTAL NO. of ITERATIONS REACHED LIMIT.\n",
      "\n",
      "Increase the number of iterations (max_iter) or scale the data as shown in:\n",
      "    https://scikit-learn.org/stable/modules/preprocessing.html\n",
      "Please also refer to the documentation for alternative solver options:\n",
      "    https://scikit-learn.org/stable/modules/linear_model.html#logistic-regression\n",
      "  extra_warning_msg=_LOGISTIC_SOLVER_CONVERGENCE_MSG)\n"
     ]
    },
    {
     "name": "stdout",
     "output_type": "stream",
     "text": [
      "accuracy 0.9991566716641679\n",
      "precision 0.9987699013289053\n",
      "recall 0.9991812749648262\n",
      "F1 0.9989753166048593\n",
      "accuracy 0.9032983508245878\n",
      "precision 0.8558651570165512\n",
      "recall 0.8383484903567183\n",
      "F1 0.8465814296392887\n",
      "accuracy 0.9197901049475262\n",
      "precision 0.884894810897076\n",
      "recall 0.863229712838529\n",
      "F1 0.8733205623983853\n",
      "3001\n"
     ]
    },
    {
     "name": "stderr",
     "output_type": "stream",
     "text": [
      "C:\\Users\\n_hay\\Anaconda3\\lib\\site-packages\\sklearn\\linear_model\\_logistic.py:764: ConvergenceWarning: lbfgs failed to converge (status=1):\n",
      "STOP: TOTAL NO. of ITERATIONS REACHED LIMIT.\n",
      "\n",
      "Increase the number of iterations (max_iter) or scale the data as shown in:\n",
      "    https://scikit-learn.org/stable/modules/preprocessing.html\n",
      "Please also refer to the documentation for alternative solver options:\n",
      "    https://scikit-learn.org/stable/modules/linear_model.html#logistic-regression\n",
      "  extra_warning_msg=_LOGISTIC_SOLVER_CONVERGENCE_MSG)\n"
     ]
    },
    {
     "name": "stdout",
     "output_type": "stream",
     "text": [
      "accuracy 0.9991566716641679\n",
      "precision 0.9989072332621916\n",
      "recall 0.9990429196698972\n",
      "F1 0.9989749141206876\n",
      "accuracy 0.9047976011994003\n",
      "precision 0.8614174229634477\n",
      "recall 0.8392618029473016\n",
      "F1 0.8496750581219905\n",
      "accuracy 0.9167916041979011\n",
      "precision 0.8804609859952843\n",
      "recall 0.8591053471228067\n",
      "F1 0.8690439014688988\n",
      "4001\n"
     ]
    },
    {
     "name": "stderr",
     "output_type": "stream",
     "text": [
      "C:\\Users\\n_hay\\Anaconda3\\lib\\site-packages\\sklearn\\linear_model\\_logistic.py:764: ConvergenceWarning: lbfgs failed to converge (status=1):\n",
      "STOP: TOTAL NO. of ITERATIONS REACHED LIMIT.\n",
      "\n",
      "Increase the number of iterations (max_iter) or scale the data as shown in:\n",
      "    https://scikit-learn.org/stable/modules/preprocessing.html\n",
      "Please also refer to the documentation for alternative solver options:\n",
      "    https://scikit-learn.org/stable/modules/linear_model.html#logistic-regression\n",
      "  extra_warning_msg=_LOGISTIC_SOLVER_CONVERGENCE_MSG)\n"
     ]
    },
    {
     "name": "stdout",
     "output_type": "stream",
     "text": [
      "accuracy 0.9991566716641679\n",
      "precision 0.9988838383052852\n",
      "recall 0.999068565109583\n",
      "F1 0.9989754706182796\n",
      "accuracy 0.9032983508245878\n",
      "precision 0.8630018381574683\n",
      "recall 0.8320815579541052\n",
      "F1 0.8463844724358062\n",
      "accuracy 0.9160419790104948\n",
      "precision 0.8764164745736114\n",
      "recall 0.8597238259945204\n",
      "F1 0.8674944141786812\n",
      "5001\n"
     ]
    },
    {
     "name": "stderr",
     "output_type": "stream",
     "text": [
      "C:\\Users\\n_hay\\Anaconda3\\lib\\site-packages\\sklearn\\linear_model\\_logistic.py:764: ConvergenceWarning: lbfgs failed to converge (status=1):\n",
      "STOP: TOTAL NO. of ITERATIONS REACHED LIMIT.\n",
      "\n",
      "Increase the number of iterations (max_iter) or scale the data as shown in:\n",
      "    https://scikit-learn.org/stable/modules/preprocessing.html\n",
      "Please also refer to the documentation for alternative solver options:\n",
      "    https://scikit-learn.org/stable/modules/linear_model.html#logistic-regression\n",
      "  extra_warning_msg=_LOGISTIC_SOLVER_CONVERGENCE_MSG)\n"
     ]
    },
    {
     "name": "stdout",
     "output_type": "stream",
     "text": [
      "accuracy 0.9991566716641679\n",
      "precision 0.9989034732306277\n",
      "recall 0.9990467694477677\n",
      "F1 0.9989749061784357\n",
      "accuracy 0.9032983508245878\n",
      "precision 0.860837148168654\n",
      "recall 0.8331894185179722\n",
      "F1 0.8460728937965306\n",
      "accuracy 0.9160419790104948\n",
      "precision 0.8767426806867336\n",
      "recall 0.8609375941104623\n",
      "F1 0.868260026930035\n",
      "6001\n"
     ]
    },
    {
     "name": "stderr",
     "output_type": "stream",
     "text": [
      "C:\\Users\\n_hay\\Anaconda3\\lib\\site-packages\\sklearn\\linear_model\\_logistic.py:764: ConvergenceWarning: lbfgs failed to converge (status=1):\n",
      "STOP: TOTAL NO. of ITERATIONS REACHED LIMIT.\n",
      "\n",
      "Increase the number of iterations (max_iter) or scale the data as shown in:\n",
      "    https://scikit-learn.org/stable/modules/preprocessing.html\n",
      "Please also refer to the documentation for alternative solver options:\n",
      "    https://scikit-learn.org/stable/modules/linear_model.html#logistic-regression\n",
      "  extra_warning_msg=_LOGISTIC_SOLVER_CONVERGENCE_MSG)\n"
     ]
    },
    {
     "name": "stdout",
     "output_type": "stream",
     "text": [
      "accuracy 0.9991566716641679\n",
      "precision 0.9990434467408111\n",
      "recall 0.9989071111474312\n",
      "F1 0.9989751163606805\n",
      "accuracy 0.9032983508245878\n",
      "precision 0.8689288155447025\n",
      "recall 0.830468786436875\n",
      "F1 0.8479571362603854\n",
      "accuracy 0.9182908545727136\n",
      "precision 0.8817909979695036\n",
      "recall 0.8576204426249633\n",
      "F1 0.8689178064837491\n",
      "7001\n"
     ]
    },
    {
     "name": "stderr",
     "output_type": "stream",
     "text": [
      "C:\\Users\\n_hay\\Anaconda3\\lib\\site-packages\\sklearn\\linear_model\\_logistic.py:764: ConvergenceWarning: lbfgs failed to converge (status=1):\n",
      "STOP: TOTAL NO. of ITERATIONS REACHED LIMIT.\n",
      "\n",
      "Increase the number of iterations (max_iter) or scale the data as shown in:\n",
      "    https://scikit-learn.org/stable/modules/preprocessing.html\n",
      "Please also refer to the documentation for alternative solver options:\n",
      "    https://scikit-learn.org/stable/modules/linear_model.html#logistic-regression\n",
      "  extra_warning_msg=_LOGISTIC_SOLVER_CONVERGENCE_MSG)\n"
     ]
    },
    {
     "name": "stdout",
     "output_type": "stream",
     "text": [
      "accuracy 0.9991566716641679\n",
      "precision 0.9988874433869449\n",
      "recall 0.9990647153317125\n",
      "F1 0.9989754786156368\n",
      "accuracy 0.9047976011994003\n",
      "precision 0.8631503525202321\n",
      "recall 0.8352105916724226\n",
      "F1 0.8482336186486654\n",
      "accuracy 0.9145427286356822\n",
      "precision 0.876241439924424\n",
      "recall 0.8577466514706329\n",
      "F1 0.8662995215600222\n",
      "8001\n"
     ]
    },
    {
     "name": "stderr",
     "output_type": "stream",
     "text": [
      "C:\\Users\\n_hay\\Anaconda3\\lib\\site-packages\\sklearn\\linear_model\\_logistic.py:764: ConvergenceWarning: lbfgs failed to converge (status=1):\n",
      "STOP: TOTAL NO. of ITERATIONS REACHED LIMIT.\n",
      "\n",
      "Increase the number of iterations (max_iter) or scale the data as shown in:\n",
      "    https://scikit-learn.org/stable/modules/preprocessing.html\n",
      "Please also refer to the documentation for alternative solver options:\n",
      "    https://scikit-learn.org/stable/modules/linear_model.html#logistic-regression\n",
      "  extra_warning_msg=_LOGISTIC_SOLVER_CONVERGENCE_MSG)\n"
     ]
    },
    {
     "name": "stdout",
     "output_type": "stream",
     "text": [
      "accuracy 0.9991566716641679\n",
      "precision 0.9991966633507168\n",
      "recall 0.9987533567410204\n",
      "F1 0.9989747453582694\n",
      "accuracy 0.9055472263868066\n",
      "precision 0.870714303757631\n",
      "recall 0.836409396721915\n",
      "F1 0.8521279212720709\n",
      "accuracy 0.9175412293853074\n",
      "precision 0.8813500808619197\n",
      "recall 0.8571675440742387\n",
      "F1 0.8684709789591735\n",
      "9001\n"
     ]
    },
    {
     "name": "stderr",
     "output_type": "stream",
     "text": [
      "C:\\Users\\n_hay\\Anaconda3\\lib\\site-packages\\sklearn\\linear_model\\_logistic.py:764: ConvergenceWarning: lbfgs failed to converge (status=1):\n",
      "STOP: TOTAL NO. of ITERATIONS REACHED LIMIT.\n",
      "\n",
      "Increase the number of iterations (max_iter) or scale the data as shown in:\n",
      "    https://scikit-learn.org/stable/modules/preprocessing.html\n",
      "Please also refer to the documentation for alternative solver options:\n",
      "    https://scikit-learn.org/stable/modules/linear_model.html#logistic-regression\n",
      "  extra_warning_msg=_LOGISTIC_SOLVER_CONVERGENCE_MSG)\n"
     ]
    },
    {
     "name": "stdout",
     "output_type": "stream",
     "text": [
      "accuracy 0.9991566716641679\n",
      "precision 0.9987581354403084\n",
      "recall 0.9991928242984376\n",
      "F1 0.9989752929360597\n",
      "accuracy 0.9047976011994003\n",
      "precision 0.8672086668777055\n",
      "recall 0.834817040034017\n",
      "F1 0.8497489574202384\n",
      "accuracy 0.9130434782608695\n",
      "precision 0.8729204658012673\n",
      "recall 0.8543856921628561\n",
      "F1 0.8629279643728952\n"
     ]
    }
   ],
   "source": [
    "vectorizer = CountVectorizer()#単語からベクトル変換\n",
    "X_train,X_test,X_valid,vectorizer = Vect(vectorizer)\n",
    "train_acc_list = []\n",
    "test_acc_list = []\n",
    "valid_acc_list = []\n",
    "for c in range(1,10000,1000):\n",
    "    print(c)\n",
    "    f = LogisticRegression(C=c)\n",
    "    clf = Learn(f)\n",
    "    acc = Print(train_df,X_train,clf)\n",
    "    train_acc_list.append(acc)\n",
    "    acc = Print(test_df,X_test,clf)\n",
    "    test_acc_list.append(acc)\n",
    "    acc = Print(valid_df,X_valid,clf)\n",
    "    valid_acc_list.append(acc)"
   ]
  },
  {
   "cell_type": "code",
   "execution_count": 70,
   "metadata": {},
   "outputs": [
    {
     "data": {
      "text/plain": [
       "<matplotlib.legend.Legend at 0x13533fcdb08>"
      ]
     },
     "execution_count": 70,
     "metadata": {},
     "output_type": "execute_result"
    },
    {
     "data": {
      "image/png": "[encoded data removed]",
      "text/plain": [
       "<Figure size 432x288 with 1 Axes>"
      ]
     },
     "metadata": {
      "needs_background": "light"
     },
     "output_type": "display_data"
    }
   ],
   "source": [
    "plt.plot(range(1,10000,1000), train_acc_list, label='train')\n",
    "plt.plot(range(1,10000,1000), test_acc_list, label='test')\n",
    "plt.plot(range(1,10000,1000), valid_acc_list, label='valid')\n",
    "plt.xscale('log')\n",
    "plt.xlabel('C', fontsize = 14)\n",
    "plt.ylabel('Accuracy', fontsize = 14)\n",
    "plt.legend()"
   ]
  },
  {
   "cell_type": "code",
   "execution_count": 71,
   "metadata": {},
   "outputs": [
    {
     "data": {
      "text/plain": [
       "array([1.e-05, 1.e-04, 1.e-03, 1.e-02, 1.e-01, 1.e+00, 1.e+01, 1.e+02,\n",
       "       1.e+03, 1.e+04])"
      ]
     },
     "execution_count": 71,
     "metadata": {},
     "output_type": "execute_result"
    }
   ],
   "source": [
    "np.logspace(-5, 4, 10, base=10)"
   ]
  },
  {
   "cell_type": "code",
   "execution_count": 72,
   "metadata": {},
   "outputs": [
    {
     "data": {
      "text/plain": [
       "1e-05"
      ]
     },
     "execution_count": 72,
     "metadata": {},
     "output_type": "execute_result"
    }
   ],
   "source": [
    "1.e-05"
   ]
  },
  {
   "cell_type": "code",
   "execution_count": null,
   "metadata": {},
   "outputs": [],
   "source": []
  }
 ],
 "metadata": {
  "kernelspec": {
   "display_name": "Python 3",
   "language": "python",
   "name": "python3"
  },
  "language_info": {
   "codemirror_mode": {
    "name": "ipython",
    "version": 3
   },
   "file_extension": ".py",
   "mimetype": "text/x-python",
   "name": "python",
   "nbconvert_exporter": "python",
   "pygments_lexer": "ipython3",
   "version": "3.7.9"
  }
 },
 "nbformat": 4,
 "nbformat_minor": 4
}
